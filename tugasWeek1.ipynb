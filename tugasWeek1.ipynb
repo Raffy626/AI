{
 "cells": [
  {
   "cell_type": "markdown",
   "metadata": {},
   "source": [
    "# Import Librarynya terlebih dahulu"
   ]
  },
  {
   "cell_type": "code",
   "execution_count": null,
   "metadata": {},
   "outputs": [],
   "source": [
    "import numpy as np\n",
    "import pandas as pd\n",
    "import seaborn as sns\n",
    "import matplotlib.pyplot as plt"
   ]
  },
  {
   "cell_type": "markdown",
   "metadata": {},
   "source": [
    "# Membaca Dataset"
   ]
  },
  {
   "cell_type": "code",
   "execution_count": 197,
   "metadata": {},
   "outputs": [
    {
     "name": "stderr",
     "output_type": "stream",
     "text": [
      "/var/folders/y9/mspx7swj0rn_0ppnxq9mq1880000gn/T/ipykernel_24093/3704909454.py:1: DtypeWarning: Columns (12,13) have mixed types. Specify dtype option on import or set low_memory=False.\n",
      "  data = pd.read_csv(\"Data.csv\")\n"
     ]
    }
   ],
   "source": [
    "data = pd.read_csv(\"Data.csv\")\n",
    "\n",
    "# membersihkan data\n",
    "data['Original Price'] = data['Original Price'].replace({'': np.nan, '[.]': ''}, regex=True)\n",
    "data['Original Price'] = pd.to_numeric(data['Original Price'], errors='coerce')\n",
    "data['Selling Price'] = pd.to_numeric(data['Selling Price'], errors='coerce')"
   ]
  },
  {
   "cell_type": "markdown",
   "metadata": {},
   "source": [
    "# EDA"
   ]
  },
  {
   "cell_type": "code",
   "execution_count": 198,
   "metadata": {},
   "outputs": [
    {
     "data": {
      "text/html": [
       "<div>\n",
       "<style scoped>\n",
       "    .dataframe tbody tr th:only-of-type {\n",
       "        vertical-align: middle;\n",
       "    }\n",
       "\n",
       "    .dataframe tbody tr th {\n",
       "        vertical-align: top;\n",
       "    }\n",
       "\n",
       "    .dataframe thead th {\n",
       "        text-align: right;\n",
       "    }\n",
       "</style>\n",
       "<table border=\"1\" class=\"dataframe\">\n",
       "  <thead>\n",
       "    <tr style=\"text-align: right;\">\n",
       "      <th></th>\n",
       "      <th>Date</th>\n",
       "      <th>Last Crawling</th>\n",
       "      <th>SKU Name</th>\n",
       "      <th>Product Name</th>\n",
       "      <th>Url Product</th>\n",
       "      <th>Seller</th>\n",
       "      <th>Merchant</th>\n",
       "      <th>Stock</th>\n",
       "      <th>Item Condition</th>\n",
       "      <th>Filter</th>\n",
       "      <th>Flag</th>\n",
       "      <th>Bottom Price</th>\n",
       "      <th>Original Price</th>\n",
       "      <th>Discount</th>\n",
       "      <th>Selling Price</th>\n",
       "      <th>Discrepancy</th>\n",
       "      <th>Sales Quantity</th>\n",
       "      <th>Sales Revenue</th>\n",
       "    </tr>\n",
       "  </thead>\n",
       "  <tbody>\n",
       "    <tr>\n",
       "      <th>0</th>\n",
       "      <td>Oct 22, 2022</td>\n",
       "      <td>Oct 22, 2022</td>\n",
       "      <td>TL WR840N</td>\n",
       "      <td>TP-Link TL-WR840N 2 Antenna 300Mbps Wireless N...</td>\n",
       "      <td>https://tokopedia.com/ccplace/tp-link-tl-wr840...</td>\n",
       "      <td>ccplace shop</td>\n",
       "      <td>tokopedia</td>\n",
       "      <td>In Stock</td>\n",
       "      <td>baru</td>\n",
       "      <td>Above</td>\n",
       "      <td>Please Check</td>\n",
       "      <td>155000</td>\n",
       "      <td>231000.0</td>\n",
       "      <td>0</td>\n",
       "      <td>231000</td>\n",
       "      <td>1.490.322.581</td>\n",
       "      <td>0</td>\n",
       "      <td>0</td>\n",
       "    </tr>\n",
       "    <tr>\n",
       "      <th>1</th>\n",
       "      <td>Oct 22, 2022</td>\n",
       "      <td>Oct 22, 2022</td>\n",
       "      <td>TL WR840N</td>\n",
       "      <td>Promo TP-LINK TL-WR840N Wireless Router 300Mbp...</td>\n",
       "      <td>https://tokopedia.com/gilsaashopp/promo-tp-lin...</td>\n",
       "      <td>gilsaa_shopp</td>\n",
       "      <td>tokopedia</td>\n",
       "      <td>In Stock</td>\n",
       "      <td>baru</td>\n",
       "      <td>Above</td>\n",
       "      <td>Please Check</td>\n",
       "      <td>155000</td>\n",
       "      <td>218800.0</td>\n",
       "      <td>0</td>\n",
       "      <td>218800</td>\n",
       "      <td>1.411.612.903</td>\n",
       "      <td>0</td>\n",
       "      <td>0</td>\n",
       "    </tr>\n",
       "    <tr>\n",
       "      <th>2</th>\n",
       "      <td>Oct 22, 2022</td>\n",
       "      <td>Oct 22, 2022</td>\n",
       "      <td>TL WR840N</td>\n",
       "      <td>Tp-Link TL-WR840N 300Mbps Wireless N Speed Rou...</td>\n",
       "      <td>https://tokopedia.com/ccwinta/tp-link-tl-wr840...</td>\n",
       "      <td>ccwinta shop</td>\n",
       "      <td>tokopedia</td>\n",
       "      <td>In Stock</td>\n",
       "      <td>baru</td>\n",
       "      <td>Above</td>\n",
       "      <td>Please Check</td>\n",
       "      <td>155000</td>\n",
       "      <td>227000.0</td>\n",
       "      <td>0</td>\n",
       "      <td>227000</td>\n",
       "      <td>1.464.516.129</td>\n",
       "      <td>0</td>\n",
       "      <td>0</td>\n",
       "    </tr>\n",
       "    <tr>\n",
       "      <th>3</th>\n",
       "      <td>Oct 22, 2022</td>\n",
       "      <td>Oct 22, 2022</td>\n",
       "      <td>TL WR840N</td>\n",
       "      <td>JARINGAN TP-LINK TL-WR 840N TL-WR840N 300MBps ...</td>\n",
       "      <td>https://tokopedia.com/belsa/jaringan-tp-link-t...</td>\n",
       "      <td>BELSA_SHOP</td>\n",
       "      <td>tokopedia</td>\n",
       "      <td>In Stock</td>\n",
       "      <td>baru</td>\n",
       "      <td>Above</td>\n",
       "      <td>Please Check</td>\n",
       "      <td>155000</td>\n",
       "      <td>263000.0</td>\n",
       "      <td>0</td>\n",
       "      <td>263000</td>\n",
       "      <td>1.696.774.194</td>\n",
       "      <td>0</td>\n",
       "      <td>0</td>\n",
       "    </tr>\n",
       "    <tr>\n",
       "      <th>4</th>\n",
       "      <td>Oct 22, 2022</td>\n",
       "      <td>Oct 22, 2022</td>\n",
       "      <td>TL WR840N</td>\n",
       "      <td>TPLink TL-WR840N Router Wireless WiFi 300Mbps ...</td>\n",
       "      <td>https://tokopedia.com/ccwinta/tplink-tl-wr840n...</td>\n",
       "      <td>ccwinta shop</td>\n",
       "      <td>tokopedia</td>\n",
       "      <td>In Stock</td>\n",
       "      <td>baru</td>\n",
       "      <td>Above</td>\n",
       "      <td>Please Check</td>\n",
       "      <td>155000</td>\n",
       "      <td>236000.0</td>\n",
       "      <td>0</td>\n",
       "      <td>236000</td>\n",
       "      <td>1.522.580.645</td>\n",
       "      <td>0</td>\n",
       "      <td>0</td>\n",
       "    </tr>\n",
       "  </tbody>\n",
       "</table>\n",
       "</div>"
      ],
      "text/plain": [
       "           Date Last Crawling   SKU Name  \\\n",
       "0  Oct 22, 2022  Oct 22, 2022  TL WR840N   \n",
       "1  Oct 22, 2022  Oct 22, 2022  TL WR840N   \n",
       "2  Oct 22, 2022  Oct 22, 2022  TL WR840N   \n",
       "3  Oct 22, 2022  Oct 22, 2022  TL WR840N   \n",
       "4  Oct 22, 2022  Oct 22, 2022  TL WR840N   \n",
       "\n",
       "                                        Product Name  \\\n",
       "0  TP-Link TL-WR840N 2 Antenna 300Mbps Wireless N...   \n",
       "1  Promo TP-LINK TL-WR840N Wireless Router 300Mbp...   \n",
       "2  Tp-Link TL-WR840N 300Mbps Wireless N Speed Rou...   \n",
       "3  JARINGAN TP-LINK TL-WR 840N TL-WR840N 300MBps ...   \n",
       "4  TPLink TL-WR840N Router Wireless WiFi 300Mbps ...   \n",
       "\n",
       "                                         Url Product        Seller   Merchant  \\\n",
       "0  https://tokopedia.com/ccplace/tp-link-tl-wr840...  ccplace shop  tokopedia   \n",
       "1  https://tokopedia.com/gilsaashopp/promo-tp-lin...  gilsaa_shopp  tokopedia   \n",
       "2  https://tokopedia.com/ccwinta/tp-link-tl-wr840...  ccwinta shop  tokopedia   \n",
       "3  https://tokopedia.com/belsa/jaringan-tp-link-t...    BELSA_SHOP  tokopedia   \n",
       "4  https://tokopedia.com/ccwinta/tplink-tl-wr840n...  ccwinta shop  tokopedia   \n",
       "\n",
       "      Stock Item Condition Filter          Flag  Bottom Price  Original Price  \\\n",
       "0  In Stock           baru  Above  Please Check        155000        231000.0   \n",
       "1  In Stock           baru  Above  Please Check        155000        218800.0   \n",
       "2  In Stock           baru  Above  Please Check        155000        227000.0   \n",
       "3  In Stock           baru  Above  Please Check        155000        263000.0   \n",
       "4  In Stock           baru  Above  Please Check        155000        236000.0   \n",
       "\n",
       "  Discount  Selling Price    Discrepancy  Sales Quantity  Sales Revenue  \n",
       "0        0         231000  1.490.322.581               0              0  \n",
       "1        0         218800  1.411.612.903               0              0  \n",
       "2        0         227000  1.464.516.129               0              0  \n",
       "3        0         263000  1.696.774.194               0              0  \n",
       "4        0         236000  1.522.580.645               0              0  "
      ]
     },
     "execution_count": 198,
     "metadata": {},
     "output_type": "execute_result"
    }
   ],
   "source": [
    "data.head()"
   ]
  },
  {
   "cell_type": "code",
   "execution_count": 199,
   "metadata": {},
   "outputs": [],
   "source": [
    "data = data.dropna()"
   ]
  },
  {
   "cell_type": "code",
   "execution_count": 200,
   "metadata": {},
   "outputs": [
    {
     "name": "stdout",
     "output_type": "stream",
     "text": [
      "<class 'pandas.core.frame.DataFrame'>\n",
      "Index: 32770 entries, 0 to 32771\n",
      "Data columns (total 18 columns):\n",
      " #   Column          Non-Null Count  Dtype  \n",
      "---  ------          --------------  -----  \n",
      " 0   Date            32770 non-null  object \n",
      " 1   Last Crawling   32770 non-null  object \n",
      " 2   SKU Name        32770 non-null  object \n",
      " 3   Product Name    32770 non-null  object \n",
      " 4   Url Product     32770 non-null  object \n",
      " 5   Seller          32770 non-null  object \n",
      " 6   Merchant        32770 non-null  object \n",
      " 7   Stock           32770 non-null  object \n",
      " 8   Item Condition  32770 non-null  object \n",
      " 9   Filter          32770 non-null  object \n",
      " 10  Flag            32770 non-null  object \n",
      " 11  Bottom Price    32770 non-null  int64  \n",
      " 12  Original Price  32770 non-null  float64\n",
      " 13  Discount        32770 non-null  object \n",
      " 14  Selling Price   32770 non-null  int64  \n",
      " 15  Discrepancy     32770 non-null  object \n",
      " 16  Sales Quantity  32770 non-null  int64  \n",
      " 17  Sales Revenue   32770 non-null  int64  \n",
      "dtypes: float64(1), int64(4), object(13)\n",
      "memory usage: 4.8+ MB\n"
     ]
    },
    {
     "data": {
      "text/plain": [
       "Date              0\n",
       "Last Crawling     0\n",
       "SKU Name          0\n",
       "Product Name      0\n",
       "Url Product       0\n",
       "Seller            0\n",
       "Merchant          0\n",
       "Stock             0\n",
       "Item Condition    0\n",
       "Filter            0\n",
       "Flag              0\n",
       "Bottom Price      0\n",
       "Original Price    0\n",
       "Discount          0\n",
       "Selling Price     0\n",
       "Discrepancy       0\n",
       "Sales Quantity    0\n",
       "Sales Revenue     0\n",
       "dtype: int64"
      ]
     },
     "execution_count": 200,
     "metadata": {},
     "output_type": "execute_result"
    }
   ],
   "source": [
    "data.info()\n",
    "data.describe()\n",
    "data.isnull()\n",
    "data.isnull().sum()"
   ]
  },
  {
   "cell_type": "markdown",
   "metadata": {},
   "source": [
    "# Mencari Korelasi"
   ]
  },
  {
   "cell_type": "code",
   "execution_count": 201,
   "metadata": {},
   "outputs": [
    {
     "name": "stdout",
     "output_type": "stream",
     "text": [
      "-0.007608238863056572\n"
     ]
    }
   ],
   "source": [
    "corr = data['Original Price'].corr(data['Selling Price'])\n",
    "print(corr)\n",
    "\n",
    "X = data[['Original Price']].values\n",
    "y = data['Selling Price'].values\n",
    "\n",
    "# Membagi data menjadi 80% untuk pelatihan dan 20% untuk pengujian\n",
    "train_size = int(0.8 * len(X))\n",
    "X_train, X_test = X[train_size], X[train_size]\n",
    "y_train, y_test = y[train_size], y[train_size]"
   ]
  },
  {
   "cell_type": "markdown",
   "metadata": {},
   "source": [
    "# Mencari intercept dan slope"
   ]
  },
  {
   "cell_type": "code",
   "execution_count": 202,
   "metadata": {},
   "outputs": [
    {
     "name": "stdout",
     "output_type": "stream",
     "text": [
      "Slope: nan, Intercept: nan\n"
     ]
    },
    {
     "name": "stderr",
     "output_type": "stream",
     "text": [
      "/var/folders/y9/mspx7swj0rn_0ppnxq9mq1880000gn/T/ipykernel_24093/516264319.py:4: RuntimeWarning: invalid value encountered in scalar divide\n",
      "  slope = np.sum((X_train - X_mean) * (y_train - y_mean)) / np.sum((X_train - X_mean) ** 2)\n"
     ]
    }
   ],
   "source": [
    "X_mean = np.mean(X_train)\n",
    "y_mean = np.mean(y_train)\n",
    "\n",
    "slope = np.sum((X_train - X_mean) * (y_train - y_mean)) / np.sum((X_train - X_mean) ** 2)\n",
    "intercept = y_mean - slope * X_mean\n",
    "y_pred = slope * X_test + intercept\n",
    "print(f'Slope: {slope}, Intercept: {intercept}')"
   ]
  },
  {
   "cell_type": "code",
   "execution_count": 203,
   "metadata": {},
   "outputs": [
    {
     "data": {
      "text/plain": [
       "Text(0, 0.5, 'Selling Price')"
      ]
     },
     "execution_count": 203,
     "metadata": {},
     "output_type": "execute_result"
    },
    {
     "data": {
      "image/png": "[encoded data removed]",
      "text/plain": [
       "<Figure size 1200x800 with 1 Axes>"
      ]
     },
     "metadata": {},
     "output_type": "display_data"
    }
   ],
   "source": [
    "plt.figure(figsize=(12, 8))\n",
    "sns.boxplot(x='Original Price', y='Selling Price', data=data)\n",
    "plt.title(\"Box Plot of Original Price vs Selling Price\")\n",
    "plt.xlabel(\"Original Price\")\n",
    "plt.ylabel(\"Selling Price\")"
   ]
  },
  {
   "cell_type": "markdown",
   "metadata": {},
   "source": [
    "# Error"
   ]
  },
  {
   "cell_type": "code",
   "execution_count": 205,
   "metadata": {},
   "outputs": [
    {
     "data": {
      "text/plain": [
       "array([  1718.79459109, -13631.20540891,  16318.79459109, ...,\n",
       "         1551.79459109, -60181.20540891,   4718.79459109])"
      ]
     },
     "execution_count": 205,
     "metadata": {},
     "output_type": "execute_result"
    }
   ],
   "source": [
    "error = y_test - y_pred.flatten()\n",
    "error"
   ]
  },
  {
   "cell_type": "markdown",
   "metadata": {},
   "source": [
    "# MSE dan Square-error"
   ]
  },
  {
   "cell_type": "code",
   "execution_count": 188,
   "metadata": {},
   "outputs": [
    {
     "name": "stdout",
     "output_type": "stream",
     "text": [
      "Mean Squared Error (MSE): nan\n",
      "R-squared: nan\n"
     ]
    }
   ],
   "source": [
    "mse = np.mean((y_test - y_pred) ** 2)\n",
    "ss_total = np.sum((y_test - np.mean(y_test)) ** 2)\n",
    "ss_residual = np.sum((y_test - y_pred) ** 2)\n",
    "r_squared = 1 - (ss_residual / ss_total)\n",
    "\n",
    "print(f\"Mean Squared Error (MSE): {mse}\")\n",
    "print(f\"R-squared: {r_squared}\")"
   ]
  },
  {
   "cell_type": "markdown",
   "metadata": {},
   "source": [
    "# Mencari Prediksi yg Akurat"
   ]
  },
  {
   "cell_type": "code",
   "execution_count": null,
   "metadata": {},
   "outputs": [
    {
     "name": "stdout",
     "output_type": "stream",
     "text": [
      "Prediksi Dari Selling Price\n",
      "       Original Price  Selling Price  Prediksi Selling Price\n",
      "0           271900.0         271900                270181.0\n",
      "1           256550.0         256550                270181.0\n",
      "2           286500.0         286500                270181.0\n",
      "3           263724.0         263724                270181.0\n",
      "4           231000.0         231000                270181.0\n",
      "...              ...            ...                     ...\n",
      "6549        244000.0         244000                270181.0\n",
      "6550        212000.0         212000                270181.0\n",
      "6551        271733.0         271733                270181.0\n",
      "6552        210000.0         210000                270181.0\n",
      "6553        274900.0         274900                270181.0\n",
      "\n",
      "[6554 rows x 3 columns]\n"
     ]
    }
   ],
   "source": [
    "test_predict_y = intercept + slope * X_test\n",
    "\n",
    "predict_selling = pd.DataFrame({\n",
    "    \"Original Price\": X_test.flatten(), # membentuk ulang array dan menyederhanakan array\n",
    "    \"Selling Price\": y_test,\n",
    "    \"Prediksi Selling Price\": test_predict_y.flatten().round() #-> membulatkan ke angka floating \n",
    "})\n",
    "print(\"Prediksi Dari Selling Price\\n\", predict_selling)"
   ]
  },
  {
   "cell_type": "code",
   "execution_count": 165,
   "metadata": {},
   "outputs": [
    {
     "data": {
      "text/plain": [
       "Text(0, 0.5, 'Selling Price')"
      ]
     },
     "execution_count": 165,
     "metadata": {},
     "output_type": "execute_result"
    },
    {
     "data": {
      "image/png": "[encoded data removed]",
      "text/plain": [
       "<Figure size 640x480 with 1 Axes>"
      ]
     },
     "metadata": {},
     "output_type": "display_data"
    }
   ],
   "source": [
    "sns.lineplot(x='Original Price', y='Selling Price', data=data, color='red', label=\"Garis Regresi\")\n",
    "sns.scatterplot(x='Original Price', y='Selling Price', data=data, color='blue', label=\"Data Asli\")\n",
    "plt.title(\"Regression Line vs Original Data\")\n",
    "plt.xlabel(\"Original Price\")\n",
    "plt.ylabel(\"Selling Price\")"
   ]
  },
  {
   "cell_type": "code",
   "execution_count": 204,
   "metadata": {},
   "outputs": [
    {
     "name": "stderr",
     "output_type": "stream",
     "text": [
      "/var/folders/y9/mspx7swj0rn_0ppnxq9mq1880000gn/T/ipykernel_24093/640515943.py:6: DtypeWarning: Columns (12,13) have mixed types. Specify dtype option on import or set low_memory=False.\n",
      "  data = pd.read_csv(r\"/Users/mac/Downloads/Data - Data.csv.csv\")\n"
     ]
    },
    {
     "name": "stdout",
     "output_type": "stream",
     "text": [
      "<class 'pandas.core.frame.DataFrame'>\n",
      "Index: 32770 entries, 0 to 32771\n",
      "Data columns (total 18 columns):\n",
      " #   Column          Non-Null Count  Dtype  \n",
      "---  ------          --------------  -----  \n",
      " 0   Date            32770 non-null  object \n",
      " 1   Last Crawling   32770 non-null  object \n",
      " 2   SKU Name        32770 non-null  object \n",
      " 3   Product Name    32770 non-null  object \n",
      " 4   Url Product     32770 non-null  object \n",
      " 5   Seller          32770 non-null  object \n",
      " 6   Merchant        32770 non-null  object \n",
      " 7   Stock           32770 non-null  object \n",
      " 8   Item Condition  32770 non-null  object \n",
      " 9   Filter          32770 non-null  object \n",
      " 10  Flag            32770 non-null  object \n",
      " 11  Bottom Price    32770 non-null  int64  \n",
      " 12  Original Price  32770 non-null  float64\n",
      " 13  Discount        32770 non-null  object \n",
      " 14  Selling Price   32770 non-null  int64  \n",
      " 15  Discrepancy     32770 non-null  object \n",
      " 16  Sales Quantity  32770 non-null  int64  \n",
      " 17  Sales Revenue   32770 non-null  int64  \n",
      "dtypes: float64(1), int64(4), object(13)\n",
      "memory usage: 4.8+ MB\n",
      "-0.007608238863056572\n",
      "Slope: -5.510603937629488e-19, Intercept: 270181.2054089106\n"
     ]
    },
    {
     "data": {
      "image/png": "[encoded data removed]",
      "text/plain": [
       "<Figure size 1200x800 with 1 Axes>"
      ]
     },
     "metadata": {},
     "output_type": "display_data"
    },
    {
     "name": "stdout",
     "output_type": "stream",
     "text": [
      "Mean Squared Error (MSE): 35408832456.01316\n",
      "R-squared: -6569.968919604573\n",
      "Persamaan regresi linier: y = -0.00 * x + 270181.21 + e\n"
     ]
    },
    {
     "name": "stderr",
     "output_type": "stream",
     "text": [
      "/var/folders/y9/mspx7swj0rn_0ppnxq9mq1880000gn/T/ipykernel_24093/640515943.py:68: UserWarning: No artists with labels found to put in legend.  Note that artists whose label start with an underscore are ignored when legend() is called with no argument.\n",
      "  plt.legend()\n"
     ]
    },
    {
     "data": {
      "image/png": "[encoded data removed]",
      "text/plain": [
       "<Figure size 1200x800 with 1 Axes>"
      ]
     },
     "metadata": {},
     "output_type": "display_data"
    }
   ],
   "source": [
    "import numpy as np\n",
    "import pandas as pd\n",
    "import seaborn as sns\n",
    "import matplotlib.pyplot as plt\n",
    "\n",
    "data = pd.read_csv(r\"/Users/mac/Downloads/Data - Data.csv.csv\")\n",
    "\n",
    "\n",
    "# membersihkan data\n",
    "data['Original Price'] = data['Original Price'].replace({'': np.nan, '[.]': ''}, regex=True)\n",
    "data['Original Price'] = pd.to_numeric(data['Original Price'], errors='coerce')\n",
    "data['Selling Price'] = pd.to_numeric(data['Selling Price'], errors='coerce')\n",
    "\n",
    "data.head()\n",
    "data = data.dropna()\n",
    "data.info()\n",
    "data.describe()\n",
    "data.isnull()\n",
    "data.isnull().sum()\n",
    "\n",
    "corr = data['Original Price'].corr(data['Selling Price'])\n",
    "print(corr)\n",
    "\n",
    "X = data[['Original Price']].values\n",
    "y = data['Selling Price'].values\n",
    "\n",
    "# Membagi data menjadi 80% untuk pelatihan dan 20% untuk pengujian\n",
    "train_size = int(0.8 * len(X))\n",
    "X_train, X_test = X[:train_size], X[train_size:]\n",
    "y_train, y_test = y[:train_size], y[train_size:]\n",
    "X_mean = np.mean(X_train)\n",
    "y_mean = np.mean(y_train)\n",
    "\n",
    "slope = np.sum((X_train - X_mean) * (y_train - y_mean)) / np.sum((X_train - X_mean) ** 2)\n",
    "intercept = y_mean - slope * X_mean\n",
    "y_pred = slope * X_test + intercept\n",
    "print(f'Slope: {slope}, Intercept: {intercept}')\n",
    "\n",
    "plt.figure(figsize=(12, 8))\n",
    "sns.boxplot(x='Original Price', y='Selling Price', data=data)\n",
    "plt.title(\"Box Plot of Original Price vs Selling Price\")\n",
    "plt.xlabel(\"Original Price\")\n",
    "plt.ylabel(\"Selling Price\")\n",
    "plt.show()\n",
    "\n",
    "error = y_test - y_pred.flatten()\n",
    "mse = np.mean((y_test - y_pred) ** 2)\n",
    "ss_total = np.sum((y_test - np.mean(y_test)) ** 2)\n",
    "ss_residual = np.sum((y_test - y_pred) ** 2)\n",
    "r_squared = 1 - (ss_residual / ss_total)\n",
    "\n",
    "print(f\"Mean Squared Error (MSE): {mse}\")\n",
    "print(f\"R-squared: {r_squared}\")\n",
    "print(f\"Persamaan regresi linier: y = {slope:.2f} * x + {intercept:.2f} + e\")\n",
    "test_predict_y = intercept + slope * X_test\n",
    "\n",
    "predict_selling = pd.DataFrame({\n",
    "    \"Original Price\": X_test.flatten(),\n",
    "    \"Selling Price\": y_test,\n",
    "    \"Prediksi Selling Price\": test_predict_y.flatten().round()\n",
    "})\n",
    "plt.figure(figsize=(12, 8))\n",
    "sns.regplot(x='Original Price', y='Selling Price', data=data, color='blue', line_kws={'color': 'red'})\n",
    "sns.scatterplot(x='Original Price', y='Selling Price', data=data, color='blue')\n",
    "plt.title(\"Regression Line vs Original Data\")\n",
    "plt.xlabel(\"Original Price\")\n",
    "plt.ylabel(\"Selling Price\")\n",
    "plt.legend()\n",
    "plt.show()\n",
    "\n"
   ]
  },
  {
   "cell_type": "code",
   "execution_count": 194,
   "metadata": {},
   "outputs": [
    {
     "name": "stdout",
     "output_type": "stream",
     "text": [
      "Nilai Korelasi: -0.007608238863056572\n"
     ]
    }
   ],
   "source": [
    "print(f\"Nilai Korelasi: {corr}\")"
   ]
  },
  {
   "cell_type": "code",
   "execution_count": null,
   "metadata": {},
   "outputs": [],
   "source": [
    "import numpy as np\n",
    "import pandas as pd\n",
    "import seaborn as sns\n",
    "import matplotlib.pyplot as plt\n",
    "\n",
    "# Membaca data\n",
    "data = pd.read_csv(r\"/Users/mac/Downloads/Data - Data.csv.csv\")\n",
    "\n",
    "# Membersihkan data\n",
    "data['Original Price'] = data['Original Price'].replace({'': np.nan, '[.]': ''}, regex=True)\n",
    "data['Original Price'] = pd.to_numeric(data['Original Price'], errors='coerce')\n",
    "data['Selling Price'] = pd.to_numeric(data['Selling Price'], errors='coerce')\n",
    "\n",
    "# Melihat data\n",
    "data.head()\n",
    "data = data.dropna()\n",
    "data.info()\n",
    "data.describe()\n",
    "data.isnull()\n",
    "data.isnull().sum()\n",
    "\n",
    "# Menghitung korelasi antara 'Original Price' dan 'Selling Price'\n",
    "corr = data['Original Price'].corr(data['Selling Price'])\n",
    "print(f\"Korelasi antara 'Original Price' dan 'Selling Price': {corr}\")\n",
    "\n",
    "# Menyusun variabel independen dan dependen\n",
    "X = data[['Original Price']].values\n",
    "y = data['Selling Price'].values\n",
    "\n",
    "# Membagi data menjadi 80% untuk pelatihan dan 20% untuk pengujian\n",
    "train_size = int(0.8 * len(X))\n",
    "X_train, X_test = X[:train_size], X[train_size:]\n",
    "y_train, y_test = y[:train_size], y[train_size:]\n",
    "\n",
    "# Menghitung rata-rata X dan Y pada data pelatihan\n",
    "X_mean = np.mean(X_train)\n",
    "y_mean = np.mean(y_train)\n",
    "\n",
    "# Menghitung slope dan intercept untuk regresi linear\n",
    "slope = np.sum((X_train - X_mean) * (y_train - y_mean)) / np.sum((X_train - X_mean) ** 2)\n",
    "intercept = y_mean - slope * X_mean\n",
    "y_pred = slope * X_test + intercept\n",
    "print(f'Slope: {slope}, Intercept: {intercept}')\n",
    "\n",
    "# Menampilkan Boxplot untuk 'Original Price' vs 'Selling Price'\n",
    "plt.figure(figsize=(12, 8))\n",
    "sns.boxplot(x='Original Price', y='Selling Price', data=data)\n",
    "plt.title(\"Box Plot of Original Price vs Selling Price\")\n",
    "plt.xlabel(\"Original Price\")\n",
    "plt.ylabel(\"Selling Price\")\n",
    "plt.show()\n",
    "\n",
    "# Menghitung error dan evaluasi model\n",
    "error = y_test - y_pred.flatten()\n",
    "mse = np.mean((y_test - y_pred) ** 2)\n",
    "ss_total = np.sum((y_test - np.mean(y_test)) ** 2)\n",
    "ss_residual = np.sum((y_test - y_pred) ** 2)\n",
    "r_squared = 1 - (ss_residual / ss_total)\n",
    "\n",
    "print(f\"Mean Squared Error (MSE): {mse}\")\n",
    "print(f\"R-squared: {r_squared}\")\n",
    "print(f\"Persamaan regresi linier: y = {slope:.2f} * x + {intercept:.2f} + e\")\n",
    "\n",
    "# Membuat dataframe untuk prediksi dan nilai asli\n",
    "test_predict_y = intercept + slope * X_test\n",
    "predict_selling = pd.DataFrame({\n",
    "    \"Original Price\": X_test.flatten(),\n",
    "    \"Selling Price\": y_test,\n",
    "    \"Prediksi Selling Price\": test_predict_y.flatten().round()\n",
    "})\n",
    "\n",
    "# Menampilkan regresi linier dengan data asli\n",
    "plt.figure(figsize=(12, 8))\n",
    "sns.regplot(x='Original Price', y='Selling Price', data=data, color='blue', line_kws={'color': 'red'})\n",
    "sns.scatterplot(x='Original Price', y='Selling Price', data=data, color='blue')\n",
    "plt.title(\"Regression Line vs Original Data\")\n",
    "plt.xlabel(\"Original Price\")\n",
    "plt.ylabel(\"Selling Price\")\n",
    "plt.legend()\n",
    "plt.show()\n",
    "\n",
    "# Menampilkan heatmap untuk melihat korelasi antar kolom\n",
    "plt.figure(figsize=(10, 8))\n",
    "corr_matrix = data.corr()\n",
    "sns.heatmap(corr_matrix, annot=True, cmap='coolwarm', fmt='.2f', linewidths=0.5)\n",
    "plt.title(\"Heatmap of Correlations\")\n",
    "plt.show()\n"
   ]
  }
 ],
 "metadata": {
  "kernelspec": {
   "display_name": ".venv",
   "language": "python",
   "name": "python3"
  },
  "language_info": {
   "codemirror_mode": {
    "name": "ipython",
    "version": 3
   },
   "file_extension": ".py",
   "mimetype": "text/x-python",
   "name": "python",
   "nbconvert_exporter": "python",
   "pygments_lexer": "ipython3",
   "version": "3.12.4"
  }
 },
 "nbformat": 4,
 "nbformat_minor": 2
}
